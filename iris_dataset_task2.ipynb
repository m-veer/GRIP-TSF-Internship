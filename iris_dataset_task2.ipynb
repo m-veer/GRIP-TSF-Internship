{
  "nbformat": 4,
  "nbformat_minor": 0,
  "metadata": {
    "colab": {
      "name": "iris_dataset",
      "provenance": [],
      "collapsed_sections": [
        "sgErqf44wqzv",
        "l-zkn0Ik0SQt",
        "c3WUxw5s0PDW"
      ]
    },
    "kernelspec": {
      "name": "python3",
      "display_name": "Python 3"
    }
  },
  "cells": [
    {
      "cell_type": "markdown",
      "metadata": {
        "id": "Sy6XEkIWxoKp"
      },
      "source": [
        "#Prediction using Unsupervised ML"
      ]
    },
    {
      "cell_type": "markdown",
      "metadata": {
        "id": "Dz8iHmt0xrJb"
      },
      "source": [
        "Mayur Veer"
      ]
    },
    {
      "cell_type": "markdown",
      "metadata": {
        "id": "LsZ4FJhQxuEh"
      },
      "source": [
        "m.veer@somaiya.edu"
      ]
    },
    {
      "cell_type": "markdown",
      "metadata": {
        "id": "ZBisnq1txvNv"
      },
      "source": [
        "https://www.linkedin.com/in/mayur-veer-a66838185/"
      ]
    },
    {
      "cell_type": "markdown",
      "metadata": {
        "id": "9bCbiEiexyLQ"
      },
      "source": [
        "Date: 17th March, 2021"
      ]
    },
    {
      "cell_type": "markdown",
      "metadata": {
        "id": "QEYH9emCxz9o"
      },
      "source": [
        "**Datasets used**: https://bit.ly/3kXTdox"
      ]
    },
    {
      "cell_type": "markdown",
      "metadata": {
        "id": "sgErqf44wqzv"
      },
      "source": [
        "#Importing the libraries"
      ]
    },
    {
      "cell_type": "code",
      "metadata": {
        "id": "rmos2ZJKsW9G"
      },
      "source": [
        "import numpy as np\n",
        "import matplotlib.pyplot as plt\n",
        "import pandas as pd\n",
        "%matplotlib inline\n",
        "from sklearn.datasets import load_iris"
      ],
      "execution_count": null,
      "outputs": []
    },
    {
      "cell_type": "markdown",
      "metadata": {
        "id": "l-zkn0Ik0SQt"
      },
      "source": [
        "#Dataframe and values"
      ]
    },
    {
      "cell_type": "code",
      "metadata": {
        "id": "YAk9RIoswuL2"
      },
      "source": [
        "iris = load_iris()\n",
        "df = pd.DataFrame(iris.data, columns=iris.feature_names)\n",
        "df"
      ],
      "execution_count": null,
      "outputs": []
    },
    {
      "cell_type": "code",
      "metadata": {
        "id": "b0wcjqEzxzUu"
      },
      "source": [
        "val = df.values\n",
        "val"
      ],
      "execution_count": null,
      "outputs": []
    },
    {
      "cell_type": "markdown",
      "metadata": {
        "id": "c3WUxw5s0PDW"
      },
      "source": [
        "#Model"
      ]
    },
    {
      "cell_type": "markdown",
      "metadata": {
        "id": "os1bskI3x7pG"
      },
      "source": [
        "I am going to use sklearn.cluster for K-means"
      ]
    },
    {
      "cell_type": "code",
      "metadata": {
        "id": "ce9x03CZx6qm"
      },
      "source": [
        "  from sklearn.cluster import KMeans"
      ],
      "execution_count": null,
      "outputs": []
    },
    {
      "cell_type": "code",
      "metadata": {
        "id": "v0sKbE5ayhQW"
      },
      "source": [
        "kmeans = KMeans(n_clusters = 5,  init = 'k-means++', max_iter = 300, n_init = 10, random_state = 0)\n",
        "y_kmeans = kmeans.fit_predict(val)"
      ],
      "execution_count": null,
      "outputs": []
    },
    {
      "cell_type": "code",
      "metadata": {
        "colab": {
          "base_uri": "https://localhost:8080/",
          "height": 286
        },
        "id": "SHcrWH2Cy2aU",
        "outputId": "6d2dc21a-6b56-45da-c3d6-8182769e5a53"
      },
      "source": [
        "plt.scatter(val[y_kmeans == 0, 0], val[y_kmeans == 0,1], s = 100, c = 'green', label = 'Iris-setosa')\n",
        "plt.scatter(val[y_kmeans == 1, 0], val[y_kmeans == 1,1], s = 100, c = 'red', label = 'Iris-versicolor')\n",
        "plt.scatter(val[y_kmeans == 2, 0], val[y_kmeans == 2,1], s = 100, c = 'blue', label = 'Iris-virginica')\n",
        "\n",
        "plt.scatter(kmeans.cluster_centers_[:, 0], kmeans.cluster_centers_[:, 1], s = 100, c = 'yellow', label = 'Centroids')\n",
        "plt.legend()"
      ],
      "execution_count": null,
      "outputs": [
        {
          "output_type": "execute_result",
          "data": {
            "text/plain": [
              "<matplotlib.legend.Legend at 0x7fc8fcfc2610>"
            ]
          },
          "metadata": {
            "tags": []
          },
          "execution_count": 18
        },
        {
          "output_type": "display_data",
          "data": {
            "image/png": "[encoded data removed]",
            "text/plain": [
              "<Figure size 432x288 with 1 Axes>"
            ]
          },
          "metadata": {
            "tags": [],
            "needs_background": "light"
          }
        }
      ]
    }
  ]
}