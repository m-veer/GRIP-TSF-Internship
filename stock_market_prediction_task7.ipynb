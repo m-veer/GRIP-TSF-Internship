{
  "nbformat": 4,
  "nbformat_minor": 0,
  "metadata": {
    "colab": {
      "name": "stock_market_prediction_final.ipynb",
      "provenance": [],
      "collapsed_sections": [
        "8qJeLoZWcEwp",
        "gkdCzVEY3ehn",
        "xal8D-O2dX7e",
        "T_59iEFY3_bw",
        "jcle75Tn5AzB",
        "hVaO_O4w8FY_",
        "w6DZNfYw8XBv",
        "K_9ZHRKL8kFm",
        "27wqg-Yo9NgG",
        "6jxgsUox9W4V",
        "aMRZZ2-I9Z4W",
        "VDLpTPvo9kfH",
        "5PdxjJwV9qze"
      ]
    },
    "kernelspec": {
      "name": "python3",
      "display_name": "Python 3"
    }
  },
  "cells": [
    {
      "cell_type": "markdown",
      "metadata": {
        "id": "8qJeLoZWcEwp"
      },
      "source": [
        "#Stock Market Prediction using Numerical & Textual analysis"
      ]
    },
    {
      "cell_type": "markdown",
      "metadata": {
        "id": "rHwhwdh9cRyI"
      },
      "source": [
        "(Using LSTM)"
      ]
    },
    {
      "cell_type": "markdown",
      "metadata": {
        "id": "ykZYdcqOcUPn"
      },
      "source": [
        "Mayur Veer"
      ]
    },
    {
      "cell_type": "markdown",
      "metadata": {
        "id": "Ay4pc_bTcVi-"
      },
      "source": [
        "m.veer@somaiya.edu"
      ]
    },
    {
      "cell_type": "markdown",
      "metadata": {
        "id": "f91sZpQMcX9O"
      },
      "source": [
        "https://www.linkedin.com/in/mayur-veer-a66838185/"
      ]
    },
    {
      "cell_type": "markdown",
      "metadata": {
        "id": "AGd6NKqvcbre"
      },
      "source": [
        "Date: 14th March, 2021"
      ]
    },
    {
      "cell_type": "markdown",
      "metadata": {
        "id": "nvQZoJK4cdc2"
      },
      "source": [
        "**Datasets used**:\n",
        "\n",
        "1.Historical stock prices *italicized text*: https://in.finance.yahoo.com/quote/%5EIXIC/history?period1=978307200&period2=1616025600&interval=1mo&filter=history&frequency=1mo&includeAdjustedClose=true\n",
        "\n",
        "2.Textual News Headline: https://dataverse.harvard.edu/dataset.xhtml?persistentId=doi:10.7910/DVN/DPQMQH"
      ]
    },
    {
      "cell_type": "markdown",
      "metadata": {
        "id": "gkdCzVEY3ehn"
      },
      "source": [
        "#Importing libraries"
      ]
    },
    {
      "cell_type": "code",
      "metadata": {
        "colab": {
          "base_uri": "https://localhost:8080/"
        },
        "id": "2C77dnHI3dRX",
        "outputId": "c49b5e3b-29e2-410a-d17e-4df78a4ecf02"
      },
      "source": [
        "import pandas as pd\n",
        "import numpy as np\n",
        "\n",
        "import warnings\n",
        "warnings.filterwarnings('ignore')\n",
        "\n",
        "import matplotlib.pyplot as plt\n",
        "import seaborn as sns\n",
        "\n",
        "from keras.models import Sequential\n",
        "from keras.layers import Dense, Dropout, Activation, LSTM\n",
        "\n",
        "import nltk\n",
        "nltk.downloader.download('vader_lexicon')\n",
        "from nltk.classify import NaiveBayesClassifier\n",
        "from nltk.corpus import subjectivity\n",
        "from nltk.sentiment import SentimentAnalyzer\n",
        "from nltk.sentiment.util import *\n",
        "\n",
        "from sklearn import preprocessing, metrics\n",
        "from sklearn.preprocessing import MinMaxScaler"
      ],
      "execution_count": null,
      "outputs": [
        {
          "output_type": "stream",
          "text": [
            "[nltk_data] Downloading package vader_lexicon to /root/nltk_data...\n",
            "[nltk_data]   Package vader_lexicon is already up-to-date!\n"
          ],
          "name": "stdout"
        }
      ]
    },
    {
      "cell_type": "markdown",
      "metadata": {
        "id": "xal8D-O2dX7e"
      },
      "source": [
        "#Importing the datasets"
      ]
    },
    {
      "cell_type": "code",
      "metadata": {
        "id": "uy9qCk5H0I0x"
      },
      "source": [
        "from pydrive.auth import GoogleAuth\n",
        "from pydrive.drive import GoogleDrive\n",
        "from google.colab import auth\n",
        "from oauth2client.client import GoogleCredentials"
      ],
      "execution_count": null,
      "outputs": []
    },
    {
      "cell_type": "code",
      "metadata": {
        "id": "HzU7VtWu1fHE"
      },
      "source": [
        "auth.authenticate_user()\n",
        "gauth = GoogleAuth()\n",
        "gauth.credentials = GoogleCredentials.get_application_default()\n",
        "drive = GoogleDrive(gauth)"
      ],
      "execution_count": null,
      "outputs": []
    },
    {
      "cell_type": "code",
      "metadata": {
        "id": "NgCtK9zR1iSf"
      },
      "source": [
        "downloaded = drive.CreateFile({'id':'1SCKgycegIolyvuGv8adyQ37iDVdNj5wD'}) # replace the id with id of file you want to access\n",
        "downloaded.GetContentFile('india-news-headlines.csv')\n",
        "downloaded1 = drive.CreateFile({'id':'1RubYKUkAONSKTVmQxMked0krTjaPpiDe'}) # replace the id with id of file you want to access\n",
        "downloaded1.GetContentFile('^IXIC.csv')"
      ],
      "execution_count": null,
      "outputs": []
    },
    {
      "cell_type": "markdown",
      "metadata": {
        "id": "T_59iEFY3_bw"
      },
      "source": [
        "#Datasets"
      ]
    },
    {
      "cell_type": "markdown",
      "metadata": {
        "id": "wuTUrzob33XA"
      },
      "source": [
        "Importing stock price dataset and displaying it"
      ]
    },
    {
      "cell_type": "code",
      "metadata": {
        "id": "0navAqhE2q7v"
      },
      "source": [
        "s_p = pd.read_csv('^IXIC.csv')\n",
        "s_p.head()"
      ],
      "execution_count": null,
      "outputs": []
    },
    {
      "cell_type": "markdown",
      "metadata": {
        "id": "vL3yuLQH36Pn"
      },
      "source": [
        "Importing headlines dataset and displaying it"
      ]
    },
    {
      "cell_type": "code",
      "metadata": {
        "id": "TBcjy9y-20mR"
      },
      "source": [
        "s_h = pd.read_csv('india-news-headlines.csv')\n",
        "s_h.head()"
      ],
      "execution_count": null,
      "outputs": []
    },
    {
      "cell_type": "markdown",
      "metadata": {
        "id": "5hbV93j14OUf"
      },
      "source": [
        "Displaying no. of rows and columns"
      ]
    },
    {
      "cell_type": "code",
      "metadata": {
        "id": "wkQf3AJ14RxH"
      },
      "source": [
        "print(s_p.shape)\n",
        "print(s_h.shape)"
      ],
      "execution_count": null,
      "outputs": []
    },
    {
      "cell_type": "markdown",
      "metadata": {
        "id": "jo23O6RG40w3"
      },
      "source": [
        "Checking for null values in both datasets"
      ]
    },
    {
      "cell_type": "code",
      "metadata": {
        "id": "aOY2fA7-43fX"
      },
      "source": [
        "s_p.isna().any(), s_h.isna().any()"
      ],
      "execution_count": null,
      "outputs": []
    },
    {
      "cell_type": "markdown",
      "metadata": {
        "id": "jcle75Tn5AzB"
      },
      "source": [
        "#Combining both datasets"
      ]
    },
    {
      "cell_type": "markdown",
      "metadata": {
        "id": "5wONJMOQ5FxX"
      },
      "source": [
        "Stock price dataset"
      ]
    },
    {
      "cell_type": "code",
      "metadata": {
        "id": "CbmD_Mhy46e3"
      },
      "source": [
        "# dropping duplicates\n",
        "s_p = s_p.drop_duplicates()\n",
        "\n",
        "# coverting the datatype of column 'Date' from type object to type 'datetime'\n",
        "s_p['Date'] = pd.to_datetime(s_p['Date']).dt.normalize()\n",
        "\n",
        "# filtering the important columns required\n",
        "s_p = s_p.filter(['Date', 'Close', 'Open', 'High', 'Low', 'Volume'])\n",
        "\n",
        "# setting column 'Date' as the index column\n",
        "s_p.set_index('Date', inplace= True)\n",
        "\n",
        "# sorting the data according to the index i.e 'Date'\n",
        "s_p = s_p.sort_index(ascending=True, axis=0)\n",
        "s_p"
      ],
      "execution_count": null,
      "outputs": []
    },
    {
      "cell_type": "markdown",
      "metadata": {
        "id": "Jaxk0its5KlH"
      },
      "source": [
        "Headlines dataset"
      ]
    },
    {
      "cell_type": "code",
      "metadata": {
        "id": "2k1uIZgY5KXH"
      },
      "source": [
        "# dropping duplicates\n",
        "s_h = s_h.drop_duplicates()\n",
        "\n",
        "# coverting the datatype of column 'Date' from type string to type 'datetime'\n",
        "s_h['publish_date'] = s_h['publish_date'].astype(str)\n",
        "s_h['publish_date'] = s_h['publish_date'].apply(lambda x: x[0:4]+'-'+x[4:6]+'-'+x[6:8])\n",
        "s_h['publish_date'] = pd.to_datetime(s_h['publish_date']).dt.normalize()\n",
        "\n",
        "# filtering the important columns required\n",
        "s_h = s_h.filter(['publish_date', 'headline_text'])\n",
        "\n",
        "# grouping the news headlines according to 'Date'\n",
        "s_h = s_h.groupby(['publish_date'])['headline_text'].apply(lambda x: ','.join(x)).reset_index()\n",
        "\n",
        "# setting column 'Date' as the index column\n",
        "s_h.set_index('publish_date', inplace= True)\n",
        "\n",
        "# sorting the data according to the index i.e 'Date'\n",
        "s_h = s_h.sort_index(ascending=True, axis=0)\n",
        "s_h"
      ],
      "execution_count": null,
      "outputs": []
    },
    {
      "cell_type": "markdown",
      "metadata": {
        "id": "d7Ls5LtX5XOv"
      },
      "source": [
        "Combining both datasets"
      ]
    },
    {
      "cell_type": "code",
      "metadata": {
        "id": "oDa6_L7N5ZhI"
      },
      "source": [
        "# concatenating the datasets stock_price and stock_headlines\n",
        "s_d = pd.concat([s_p, s_h], axis=1)\n",
        "\n",
        "# dropping the null values if any\n",
        "s_d.dropna(axis=0, inplace=True)\n",
        "\n",
        "# displaying the combined stock_data\n",
        "s_d"
      ],
      "execution_count": null,
      "outputs": []
    },
    {
      "cell_type": "markdown",
      "metadata": {
        "id": "5V4LQXsz5dEP"
      },
      "source": [
        "Calculating Sentiment scores"
      ]
    },
    {
      "cell_type": "code",
      "metadata": {
        "id": "yMTt2Qm85c2v"
      },
      "source": [
        "# adding empty sentiment columns to stock_data for later calculation\n",
        "s_d['compound'] = ''\n",
        "s_d['negative'] = ''\n",
        "s_d['neutral'] = ''\n",
        "s_d['positive'] = ''\n",
        "s_d.head()"
      ],
      "execution_count": null,
      "outputs": []
    },
    {
      "cell_type": "code",
      "metadata": {
        "colab": {
          "base_uri": "https://localhost:8080/",
          "height": 195
        },
        "id": "APje1w_B5g2v",
        "outputId": "81dca8fd-21a5-47d4-d8e5-33fd1990729e"
      },
      "source": [
        "# importing requires libraries to analyze the sentiments\n",
        "from nltk.sentiment.vader import SentimentIntensityAnalyzer\n",
        "import unicodedata\n",
        "\n",
        "# instantiating the Sentiment Analyzer\n",
        "sid = SentimentIntensityAnalyzer()\n",
        "\n",
        "# calculating sentiment scores\n",
        "s_d['compound'] = s_d['headline_text'].apply(lambda x: sid.polarity_scores(x)['compound'])\n",
        "s_d['negative'] = s_d['headline_text'].apply(lambda x: sid.polarity_scores(x)['neg'])\n",
        "s_d['neutral'] = s_d['headline_text'].apply(lambda x: sid.polarity_scores(x)['neu'])\n",
        "s_d['positive'] = s_d['headline_text'].apply(lambda x: sid.polarity_scores(x)['pos'])\n",
        "\n",
        "# displaying the stock data\n",
        "s_d.head()"
      ],
      "execution_count": null,
      "outputs": [
        {
          "output_type": "execute_result",
          "data": {
            "text/html": [
              "<div>\n",
              "<style scoped>\n",
              "    .dataframe tbody tr th:only-of-type {\n",
              "        vertical-align: middle;\n",
              "    }\n",
              "\n",
              "    .dataframe tbody tr th {\n",
              "        vertical-align: top;\n",
              "    }\n",
              "\n",
              "    .dataframe thead th {\n",
              "        text-align: right;\n",
              "    }\n",
              "</style>\n",
              "<table border=\"1\" class=\"dataframe\">\n",
              "  <thead>\n",
              "    <tr style=\"text-align: right;\">\n",
              "      <th></th>\n",
              "      <th>Close</th>\n",
              "      <th>Open</th>\n",
              "      <th>High</th>\n",
              "      <th>Low</th>\n",
              "      <th>Volume</th>\n",
              "      <th>headline_text</th>\n",
              "      <th>compound</th>\n",
              "      <th>negative</th>\n",
              "      <th>neutral</th>\n",
              "      <th>positive</th>\n",
              "    </tr>\n",
              "  </thead>\n",
              "  <tbody>\n",
              "    <tr>\n",
              "      <th>2001-01-02</th>\n",
              "      <td>2291.860107</td>\n",
              "      <td>2474.159912</td>\n",
              "      <td>2474.159912</td>\n",
              "      <td>2273.070068</td>\n",
              "      <td>1.918930e+09</td>\n",
              "      <td>Status quo will not be disturbed at Ayodhya; s...</td>\n",
              "      <td>-0.9621</td>\n",
              "      <td>0.119</td>\n",
              "      <td>0.817</td>\n",
              "      <td>0.064</td>\n",
              "    </tr>\n",
              "    <tr>\n",
              "      <th>2001-01-03</th>\n",
              "      <td>2616.689941</td>\n",
              "      <td>2254.560059</td>\n",
              "      <td>2618.030029</td>\n",
              "      <td>2251.709961</td>\n",
              "      <td>3.188000e+09</td>\n",
              "      <td>Powerless north India gropes in the dark,Think...</td>\n",
              "      <td>0.6322</td>\n",
              "      <td>0.084</td>\n",
              "      <td>0.817</td>\n",
              "      <td>0.098</td>\n",
              "    </tr>\n",
              "    <tr>\n",
              "      <th>2001-01-04</th>\n",
              "      <td>2566.830078</td>\n",
              "      <td>2593.959961</td>\n",
              "      <td>2644.800049</td>\n",
              "      <td>2549.830078</td>\n",
              "      <td>2.610680e+09</td>\n",
              "      <td>The string that pulled Stephen Hawking to Indi...</td>\n",
              "      <td>0.6648</td>\n",
              "      <td>0.077</td>\n",
              "      <td>0.843</td>\n",
              "      <td>0.080</td>\n",
              "    </tr>\n",
              "    <tr>\n",
              "      <th>2001-01-05</th>\n",
              "      <td>2407.649902</td>\n",
              "      <td>2573.110107</td>\n",
              "      <td>2574.620117</td>\n",
              "      <td>2395.389893</td>\n",
              "      <td>2.104670e+09</td>\n",
              "      <td>Light combat craft takes India into club class...</td>\n",
              "      <td>0.9032</td>\n",
              "      <td>0.105</td>\n",
              "      <td>0.746</td>\n",
              "      <td>0.149</td>\n",
              "    </tr>\n",
              "    <tr>\n",
              "      <th>2001-01-08</th>\n",
              "      <td>2395.919922</td>\n",
              "      <td>2388.719971</td>\n",
              "      <td>2397.060059</td>\n",
              "      <td>2299.649902</td>\n",
              "      <td>1.850590e+09</td>\n",
              "      <td>Sangh Parivar; Babri panel up the ante,Frontru...</td>\n",
              "      <td>-0.9638</td>\n",
              "      <td>0.119</td>\n",
              "      <td>0.855</td>\n",
              "      <td>0.026</td>\n",
              "    </tr>\n",
              "  </tbody>\n",
              "</table>\n",
              "</div>"
            ],
            "text/plain": [
              "                  Close         Open         High  ...  negative  neutral positive\n",
              "2001-01-02  2291.860107  2474.159912  2474.159912  ...     0.119    0.817    0.064\n",
              "2001-01-03  2616.689941  2254.560059  2618.030029  ...     0.084    0.817    0.098\n",
              "2001-01-04  2566.830078  2593.959961  2644.800049  ...     0.077    0.843    0.080\n",
              "2001-01-05  2407.649902  2573.110107  2574.620117  ...     0.105    0.746    0.149\n",
              "2001-01-08  2395.919922  2388.719971  2397.060059  ...     0.119    0.855    0.026\n",
              "\n",
              "[5 rows x 10 columns]"
            ]
          },
          "metadata": {
            "tags": []
          },
          "execution_count": 36
        }
      ]
    },
    {
      "cell_type": "markdown",
      "metadata": {
        "id": "5VZXpK_564V3"
      },
      "source": [
        "Editing the combined dataset"
      ]
    },
    {
      "cell_type": "code",
      "metadata": {
        "colab": {
          "base_uri": "https://localhost:8080/",
          "height": 195
        },
        "id": "sxgxdW0Q5lYV",
        "outputId": "5eb0d342-1607-4791-fdc0-2a20c5d36e85"
      },
      "source": [
        "# dropping the 'headline_text' which is unwanted now\n",
        "s_d.drop(['headline_text'], inplace=True, axis=1)\n",
        "\n",
        "# rearranging the columns of the whole stock_data\n",
        "s_d = s_d[['Close', 'compound', 'negative', 'neutral', 'positive', 'Open', 'High', 'Low', 'Volume']]\n",
        "\n",
        "# displaying the final stock_data\n",
        "s_d.head()"
      ],
      "execution_count": null,
      "outputs": [
        {
          "output_type": "execute_result",
          "data": {
            "text/html": [
              "<div>\n",
              "<style scoped>\n",
              "    .dataframe tbody tr th:only-of-type {\n",
              "        vertical-align: middle;\n",
              "    }\n",
              "\n",
              "    .dataframe tbody tr th {\n",
              "        vertical-align: top;\n",
              "    }\n",
              "\n",
              "    .dataframe thead th {\n",
              "        text-align: right;\n",
              "    }\n",
              "</style>\n",
              "<table border=\"1\" class=\"dataframe\">\n",
              "  <thead>\n",
              "    <tr style=\"text-align: right;\">\n",
              "      <th></th>\n",
              "      <th>Close</th>\n",
              "      <th>compound</th>\n",
              "      <th>negative</th>\n",
              "      <th>neutral</th>\n",
              "      <th>positive</th>\n",
              "      <th>Open</th>\n",
              "      <th>High</th>\n",
              "      <th>Low</th>\n",
              "      <th>Volume</th>\n",
              "    </tr>\n",
              "  </thead>\n",
              "  <tbody>\n",
              "    <tr>\n",
              "      <th>2001-01-02</th>\n",
              "      <td>2291.860107</td>\n",
              "      <td>-0.9621</td>\n",
              "      <td>0.119</td>\n",
              "      <td>0.817</td>\n",
              "      <td>0.064</td>\n",
              "      <td>2474.159912</td>\n",
              "      <td>2474.159912</td>\n",
              "      <td>2273.070068</td>\n",
              "      <td>1.918930e+09</td>\n",
              "    </tr>\n",
              "    <tr>\n",
              "      <th>2001-01-03</th>\n",
              "      <td>2616.689941</td>\n",
              "      <td>0.6322</td>\n",
              "      <td>0.084</td>\n",
              "      <td>0.817</td>\n",
              "      <td>0.098</td>\n",
              "      <td>2254.560059</td>\n",
              "      <td>2618.030029</td>\n",
              "      <td>2251.709961</td>\n",
              "      <td>3.188000e+09</td>\n",
              "    </tr>\n",
              "    <tr>\n",
              "      <th>2001-01-04</th>\n",
              "      <td>2566.830078</td>\n",
              "      <td>0.6648</td>\n",
              "      <td>0.077</td>\n",
              "      <td>0.843</td>\n",
              "      <td>0.080</td>\n",
              "      <td>2593.959961</td>\n",
              "      <td>2644.800049</td>\n",
              "      <td>2549.830078</td>\n",
              "      <td>2.610680e+09</td>\n",
              "    </tr>\n",
              "    <tr>\n",
              "      <th>2001-01-05</th>\n",
              "      <td>2407.649902</td>\n",
              "      <td>0.9032</td>\n",
              "      <td>0.105</td>\n",
              "      <td>0.746</td>\n",
              "      <td>0.149</td>\n",
              "      <td>2573.110107</td>\n",
              "      <td>2574.620117</td>\n",
              "      <td>2395.389893</td>\n",
              "      <td>2.104670e+09</td>\n",
              "    </tr>\n",
              "    <tr>\n",
              "      <th>2001-01-08</th>\n",
              "      <td>2395.919922</td>\n",
              "      <td>-0.9638</td>\n",
              "      <td>0.119</td>\n",
              "      <td>0.855</td>\n",
              "      <td>0.026</td>\n",
              "      <td>2388.719971</td>\n",
              "      <td>2397.060059</td>\n",
              "      <td>2299.649902</td>\n",
              "      <td>1.850590e+09</td>\n",
              "    </tr>\n",
              "  </tbody>\n",
              "</table>\n",
              "</div>"
            ],
            "text/plain": [
              "                  Close  compound  ...          Low        Volume\n",
              "2001-01-02  2291.860107   -0.9621  ...  2273.070068  1.918930e+09\n",
              "2001-01-03  2616.689941    0.6322  ...  2251.709961  3.188000e+09\n",
              "2001-01-04  2566.830078    0.6648  ...  2549.830078  2.610680e+09\n",
              "2001-01-05  2407.649902    0.9032  ...  2395.389893  2.104670e+09\n",
              "2001-01-08  2395.919922   -0.9638  ...  2299.649902  1.850590e+09\n",
              "\n",
              "[5 rows x 9 columns]"
            ]
          },
          "metadata": {
            "tags": []
          },
          "execution_count": 37
        }
      ]
    },
    {
      "cell_type": "markdown",
      "metadata": {
        "id": "3UnKPQMQ6-aG"
      },
      "source": [
        "Displaying the no. of rows and columns of the combined dataset"
      ]
    },
    {
      "cell_type": "code",
      "metadata": {
        "colab": {
          "base_uri": "https://localhost:8080/"
        },
        "id": "-sdqcc0w7Jvl",
        "outputId": "d8bbd86c-3133-4228-e556-f1936d9627b7"
      },
      "source": [
        "s_d.shape"
      ],
      "execution_count": null,
      "outputs": [
        {
          "output_type": "execute_result",
          "data": {
            "text/plain": [
              "(4877, 9)"
            ]
          },
          "metadata": {
            "tags": []
          },
          "execution_count": 38
        }
      ]
    },
    {
      "cell_type": "markdown",
      "metadata": {
        "id": "tYvkdNNh7Q2z"
      },
      "source": [
        "Checking for null values"
      ]
    },
    {
      "cell_type": "code",
      "metadata": {
        "colab": {
          "base_uri": "https://localhost:8080/"
        },
        "id": "zp8VHO967NrX",
        "outputId": "bc0590a5-59f4-4c60-e3dd-ef3f14c3a626"
      },
      "source": [
        "s_d.isna().any()"
      ],
      "execution_count": null,
      "outputs": [
        {
          "output_type": "execute_result",
          "data": {
            "text/plain": [
              "Close       False\n",
              "compound    False\n",
              "negative    False\n",
              "neutral     False\n",
              "positive    False\n",
              "Open        False\n",
              "High        False\n",
              "Low         False\n",
              "Volume      False\n",
              "dtype: bool"
            ]
          },
          "metadata": {
            "tags": []
          },
          "execution_count": 39
        }
      ]
    },
    {
      "cell_type": "markdown",
      "metadata": {
        "id": "w0pwjMB_7VGv"
      },
      "source": [
        "Displaying statistics"
      ]
    },
    {
      "cell_type": "code",
      "metadata": {
        "colab": {
          "base_uri": "https://localhost:8080/",
          "height": 284
        },
        "id": "ZQDhMN5I7bzP",
        "outputId": "5f5ea8f9-76fd-4da3-eeb5-211e384818db"
      },
      "source": [
        "s_d.describe()"
      ],
      "execution_count": null,
      "outputs": [
        {
          "output_type": "execute_result",
          "data": {
            "text/html": [
              "<div>\n",
              "<style scoped>\n",
              "    .dataframe tbody tr th:only-of-type {\n",
              "        vertical-align: middle;\n",
              "    }\n",
              "\n",
              "    .dataframe tbody tr th {\n",
              "        vertical-align: top;\n",
              "    }\n",
              "\n",
              "    .dataframe thead th {\n",
              "        text-align: right;\n",
              "    }\n",
              "</style>\n",
              "<table border=\"1\" class=\"dataframe\">\n",
              "  <thead>\n",
              "    <tr style=\"text-align: right;\">\n",
              "      <th></th>\n",
              "      <th>Close</th>\n",
              "      <th>compound</th>\n",
              "      <th>negative</th>\n",
              "      <th>neutral</th>\n",
              "      <th>positive</th>\n",
              "      <th>Open</th>\n",
              "      <th>High</th>\n",
              "      <th>Low</th>\n",
              "      <th>Volume</th>\n",
              "    </tr>\n",
              "  </thead>\n",
              "  <tbody>\n",
              "    <tr>\n",
              "      <th>count</th>\n",
              "      <td>4877.000000</td>\n",
              "      <td>4877.000000</td>\n",
              "      <td>4877.000000</td>\n",
              "      <td>4877.000000</td>\n",
              "      <td>4877.000000</td>\n",
              "      <td>4877.000000</td>\n",
              "      <td>4877.000000</td>\n",
              "      <td>4877.000000</td>\n",
              "      <td>4.877000e+03</td>\n",
              "    </tr>\n",
              "    <tr>\n",
              "      <th>mean</th>\n",
              "      <td>3599.962867</td>\n",
              "      <td>-0.870185</td>\n",
              "      <td>0.125720</td>\n",
              "      <td>0.788116</td>\n",
              "      <td>0.086175</td>\n",
              "      <td>3599.296674</td>\n",
              "      <td>3622.418950</td>\n",
              "      <td>3574.214235</td>\n",
              "      <td>1.983753e+09</td>\n",
              "    </tr>\n",
              "    <tr>\n",
              "      <th>std</th>\n",
              "      <td>2111.459454</td>\n",
              "      <td>0.453365</td>\n",
              "      <td>0.024431</td>\n",
              "      <td>0.033153</td>\n",
              "      <td>0.020881</td>\n",
              "      <td>2110.518798</td>\n",
              "      <td>2121.462407</td>\n",
              "      <td>2098.982309</td>\n",
              "      <td>5.235038e+08</td>\n",
              "    </tr>\n",
              "    <tr>\n",
              "      <th>min</th>\n",
              "      <td>1114.109985</td>\n",
              "      <td>-1.000000</td>\n",
              "      <td>0.000000</td>\n",
              "      <td>0.000000</td>\n",
              "      <td>0.000000</td>\n",
              "      <td>1116.760010</td>\n",
              "      <td>1135.890015</td>\n",
              "      <td>1108.489990</td>\n",
              "      <td>1.494100e+08</td>\n",
              "    </tr>\n",
              "    <tr>\n",
              "      <th>25%</th>\n",
              "      <td>2073.590088</td>\n",
              "      <td>-0.999800</td>\n",
              "      <td>0.112000</td>\n",
              "      <td>0.768000</td>\n",
              "      <td>0.075000</td>\n",
              "      <td>2075.550049</td>\n",
              "      <td>2089.000000</td>\n",
              "      <td>2058.520020</td>\n",
              "      <td>1.704220e+09</td>\n",
              "    </tr>\n",
              "    <tr>\n",
              "      <th>50%</th>\n",
              "      <td>2611.229980</td>\n",
              "      <td>-0.999000</td>\n",
              "      <td>0.127000</td>\n",
              "      <td>0.785000</td>\n",
              "      <td>0.086000</td>\n",
              "      <td>2613.510010</td>\n",
              "      <td>2630.510010</td>\n",
              "      <td>2593.040039</td>\n",
              "      <td>1.911420e+09</td>\n",
              "    </tr>\n",
              "    <tr>\n",
              "      <th>75%</th>\n",
              "      <td>4862.569824</td>\n",
              "      <td>-0.994100</td>\n",
              "      <td>0.141000</td>\n",
              "      <td>0.806000</td>\n",
              "      <td>0.096000</td>\n",
              "      <td>4856.689941</td>\n",
              "      <td>4889.209961</td>\n",
              "      <td>4836.459961</td>\n",
              "      <td>2.161400e+09</td>\n",
              "    </tr>\n",
              "    <tr>\n",
              "      <th>max</th>\n",
              "      <td>10131.370117</td>\n",
              "      <td>1.000000</td>\n",
              "      <td>0.444000</td>\n",
              "      <td>1.000000</td>\n",
              "      <td>0.608000</td>\n",
              "      <td>10130.830078</td>\n",
              "      <td>10221.849609</td>\n",
              "      <td>10112.440430</td>\n",
              "      <td>7.279230e+09</td>\n",
              "    </tr>\n",
              "  </tbody>\n",
              "</table>\n",
              "</div>"
            ],
            "text/plain": [
              "              Close     compound  ...           Low        Volume\n",
              "count   4877.000000  4877.000000  ...   4877.000000  4.877000e+03\n",
              "mean    3599.962867    -0.870185  ...   3574.214235  1.983753e+09\n",
              "std     2111.459454     0.453365  ...   2098.982309  5.235038e+08\n",
              "min     1114.109985    -1.000000  ...   1108.489990  1.494100e+08\n",
              "25%     2073.590088    -0.999800  ...   2058.520020  1.704220e+09\n",
              "50%     2611.229980    -0.999000  ...   2593.040039  1.911420e+09\n",
              "75%     4862.569824    -0.994100  ...   4836.459961  2.161400e+09\n",
              "max    10131.370117     1.000000  ...  10112.440430  7.279230e+09\n",
              "\n",
              "[8 rows x 9 columns]"
            ]
          },
          "metadata": {
            "tags": []
          },
          "execution_count": 40
        }
      ]
    },
    {
      "cell_type": "markdown",
      "metadata": {
        "id": "cpiZzj_r7i-2"
      },
      "source": [
        "Displaying information"
      ]
    },
    {
      "cell_type": "code",
      "metadata": {
        "colab": {
          "base_uri": "https://localhost:8080/"
        },
        "id": "nuh_L_O17ld3",
        "outputId": "7e648e80-c434-48ba-f8d3-e763f2259ee8"
      },
      "source": [
        "s_d.info()"
      ],
      "execution_count": null,
      "outputs": [
        {
          "output_type": "stream",
          "text": [
            "<class 'pandas.core.frame.DataFrame'>\n",
            "DatetimeIndex: 4877 entries, 2001-01-02 to 2020-06-30\n",
            "Data columns (total 9 columns):\n",
            " #   Column    Non-Null Count  Dtype  \n",
            "---  ------    --------------  -----  \n",
            " 0   Close     4877 non-null   float64\n",
            " 1   compound  4877 non-null   float64\n",
            " 2   negative  4877 non-null   float64\n",
            " 3   neutral   4877 non-null   float64\n",
            " 4   positive  4877 non-null   float64\n",
            " 5   Open      4877 non-null   float64\n",
            " 6   High      4877 non-null   float64\n",
            " 7   Low       4877 non-null   float64\n",
            " 8   Volume    4877 non-null   float64\n",
            "dtypes: float64(9)\n",
            "memory usage: 381.0 KB\n"
          ],
          "name": "stdout"
        }
      ]
    },
    {
      "cell_type": "markdown",
      "metadata": {
        "id": "hVaO_O4w8FY_"
      },
      "source": [
        "#Stock data plot"
      ]
    },
    {
      "cell_type": "code",
      "metadata": {
        "colab": {
          "base_uri": "https://localhost:8080/",
          "height": 596
        },
        "id": "wjMjRi9w8FNu",
        "outputId": "35649a1a-5be5-435a-cd7b-42261280348b"
      },
      "source": [
        "# setting figure size\n",
        "plt.figure(figsize=(16,10))\n",
        "\n",
        "# plotting close price\n",
        "s_d['Close'].plot()\n",
        "\n",
        "# setting plot title, x and y labels\n",
        "plt.title(\"Close Price\")\n",
        "plt.xlabel('Date')\n",
        "plt.ylabel('Close Price ($)')"
      ],
      "execution_count": null,
      "outputs": [
        {
          "output_type": "execute_result",
          "data": {
            "text/plain": [
              "Text(0, 0.5, 'Close Price ($)')"
            ]
          },
          "metadata": {
            "tags": []
          },
          "execution_count": 42
        },
        {
          "output_type": "display_data",
          "data": {
            "image/png": "[encoded data removed]",
            "text/plain": [
              "<Figure size 1152x720 with 1 Axes>"
            ]
          },
          "metadata": {
            "tags": [],
            "needs_background": "light"
          }
        }
      ]
    },
    {
      "cell_type": "markdown",
      "metadata": {
        "id": "w6DZNfYw8XBv"
      },
      "source": [
        "#Modelling"
      ]
    },
    {
      "cell_type": "code",
      "metadata": {
        "colab": {
          "base_uri": "https://localhost:8080/"
        },
        "id": "B20wBofz8W5_",
        "outputId": "40252b67-96fd-43d7-bd05-b7a33fddea6d"
      },
      "source": [
        "# calculating data_to_use\n",
        "percentage_of_data = 1.0\n",
        "data_to_use = int(percentage_of_data*(len(s_d)-1))\n",
        "\n",
        "# using 80% of data for training\n",
        "train_end = int(data_to_use*0.8)\n",
        "total_data = len(s_d)\n",
        "start = total_data - data_to_use\n",
        "\n",
        "# printing number of records in the training and test datasets\n",
        "print(\"Number of records in Training Data:\", train_end)\n",
        "print(\"Number of records in Test Data:\", total_data - train_end)"
      ],
      "execution_count": null,
      "outputs": [
        {
          "output_type": "stream",
          "text": [
            "Number of records in Training Data: 3900\n",
            "Number of records in Test Data: 977\n"
          ],
          "name": "stdout"
        }
      ]
    },
    {
      "cell_type": "code",
      "metadata": {
        "colab": {
          "base_uri": "https://localhost:8080/"
        },
        "id": "9Acd3BGN8c0o",
        "outputId": "6650995a-7f80-4e96-dd45-e07ab6b8914b"
      },
      "source": [
        "# predicting one step ahead\n",
        "steps_to_predict = 1\n",
        "\n",
        "# capturing data to be used for each column\n",
        "close_price = s_d.iloc[start:total_data,0] #close\n",
        "compound = s_d.iloc[start:total_data,1] #compound\n",
        "negative = s_d.iloc[start:total_data,2] #neg\n",
        "neutral = s_d.iloc[start:total_data,3] #neu\n",
        "positive = s_d.iloc[start:total_data,4] #pos\n",
        "open_price = s_d.iloc[start:total_data,5] #open\n",
        "high = s_d.iloc[start:total_data,6] #high\n",
        "low = s_d.iloc[start:total_data,7] #low\n",
        "volume = s_d.iloc[start:total_data,8] #volume\n",
        "\n",
        "# printing close price\n",
        "print(\"Close Price:\")\n",
        "close_price"
      ],
      "execution_count": null,
      "outputs": [
        {
          "output_type": "stream",
          "text": [
            "Close Price:\n"
          ],
          "name": "stdout"
        },
        {
          "output_type": "execute_result",
          "data": {
            "text/plain": [
              "2001-01-03     2616.689941\n",
              "2001-01-04     2566.830078\n",
              "2001-01-05     2407.649902\n",
              "2001-01-08     2395.919922\n",
              "2001-01-09     2441.300049\n",
              "                  ...     \n",
              "2020-06-24     9909.169922\n",
              "2020-06-25    10017.000000\n",
              "2020-06-26     9757.219727\n",
              "2020-06-29     9874.150391\n",
              "2020-06-30    10058.769531\n",
              "Name: Close, Length: 4876, dtype: float64"
            ]
          },
          "metadata": {
            "tags": []
          },
          "execution_count": 46
        }
      ]
    },
    {
      "cell_type": "code",
      "metadata": {
        "colab": {
          "base_uri": "https://localhost:8080/",
          "height": 343
        },
        "id": "iCYPAfqI8eZA",
        "outputId": "9246be30-8364-4f18-f84b-0102bfbf83c7"
      },
      "source": [
        "# shifting next day close\n",
        "close_price_shifted = close_price.shift(-1) \n",
        "\n",
        "# shifting next day compound\n",
        "compound_shifted = compound.shift(-1) \n",
        "\n",
        "# concatenating the captured training data into a dataframe\n",
        "data = pd.concat([close_price, close_price_shifted, compound, compound_shifted, volume, open_price, high, low], axis=1)\n",
        "\n",
        "# setting column names of the revised stock data\n",
        "data.columns = ['close_price', 'close_price_shifted', 'compound', 'compound_shifted','volume', 'open_price', 'high', 'low']\n",
        "\n",
        "# dropping nulls\n",
        "data = data.dropna()    \n",
        "data.head(10)"
      ],
      "execution_count": null,
      "outputs": [
        {
          "output_type": "execute_result",
          "data": {
            "text/html": [
              "<div>\n",
              "<style scoped>\n",
              "    .dataframe tbody tr th:only-of-type {\n",
              "        vertical-align: middle;\n",
              "    }\n",
              "\n",
              "    .dataframe tbody tr th {\n",
              "        vertical-align: top;\n",
              "    }\n",
              "\n",
              "    .dataframe thead th {\n",
              "        text-align: right;\n",
              "    }\n",
              "</style>\n",
              "<table border=\"1\" class=\"dataframe\">\n",
              "  <thead>\n",
              "    <tr style=\"text-align: right;\">\n",
              "      <th></th>\n",
              "      <th>close_price</th>\n",
              "      <th>close_price_shifted</th>\n",
              "      <th>compound</th>\n",
              "      <th>compound_shifted</th>\n",
              "      <th>volume</th>\n",
              "      <th>open_price</th>\n",
              "      <th>high</th>\n",
              "      <th>low</th>\n",
              "    </tr>\n",
              "  </thead>\n",
              "  <tbody>\n",
              "    <tr>\n",
              "      <th>2001-01-03</th>\n",
              "      <td>2616.689941</td>\n",
              "      <td>2566.830078</td>\n",
              "      <td>0.6322</td>\n",
              "      <td>0.6648</td>\n",
              "      <td>3.188000e+09</td>\n",
              "      <td>2254.560059</td>\n",
              "      <td>2618.030029</td>\n",
              "      <td>2251.709961</td>\n",
              "    </tr>\n",
              "    <tr>\n",
              "      <th>2001-01-04</th>\n",
              "      <td>2566.830078</td>\n",
              "      <td>2407.649902</td>\n",
              "      <td>0.6648</td>\n",
              "      <td>0.9032</td>\n",
              "      <td>2.610680e+09</td>\n",
              "      <td>2593.959961</td>\n",
              "      <td>2644.800049</td>\n",
              "      <td>2549.830078</td>\n",
              "    </tr>\n",
              "    <tr>\n",
              "      <th>2001-01-05</th>\n",
              "      <td>2407.649902</td>\n",
              "      <td>2395.919922</td>\n",
              "      <td>0.9032</td>\n",
              "      <td>-0.9638</td>\n",
              "      <td>2.104670e+09</td>\n",
              "      <td>2573.110107</td>\n",
              "      <td>2574.620117</td>\n",
              "      <td>2395.389893</td>\n",
              "    </tr>\n",
              "    <tr>\n",
              "      <th>2001-01-08</th>\n",
              "      <td>2395.919922</td>\n",
              "      <td>2441.300049</td>\n",
              "      <td>-0.9638</td>\n",
              "      <td>-0.9559</td>\n",
              "      <td>1.850590e+09</td>\n",
              "      <td>2388.719971</td>\n",
              "      <td>2397.060059</td>\n",
              "      <td>2299.649902</td>\n",
              "    </tr>\n",
              "    <tr>\n",
              "      <th>2001-01-09</th>\n",
              "      <td>2441.300049</td>\n",
              "      <td>2524.179932</td>\n",
              "      <td>-0.9559</td>\n",
              "      <td>-0.5719</td>\n",
              "      <td>1.975130e+09</td>\n",
              "      <td>2424.689941</td>\n",
              "      <td>2474.159912</td>\n",
              "      <td>2406.080078</td>\n",
              "    </tr>\n",
              "    <tr>\n",
              "      <th>2001-01-10</th>\n",
              "      <td>2524.179932</td>\n",
              "      <td>2640.570068</td>\n",
              "      <td>-0.5719</td>\n",
              "      <td>0.0000</td>\n",
              "      <td>2.470350e+09</td>\n",
              "      <td>2392.709961</td>\n",
              "      <td>2525.280029</td>\n",
              "      <td>2376.489990</td>\n",
              "    </tr>\n",
              "    <tr>\n",
              "      <th>2001-01-11</th>\n",
              "      <td>2640.570068</td>\n",
              "      <td>2840.389893</td>\n",
              "      <td>0.0000</td>\n",
              "      <td>0.9295</td>\n",
              "      <td>2.842640e+09</td>\n",
              "      <td>2495.590088</td>\n",
              "      <td>2661.929932</td>\n",
              "      <td>2495.010010</td>\n",
              "    </tr>\n",
              "    <tr>\n",
              "      <th>2001-01-23</th>\n",
              "      <td>2840.389893</td>\n",
              "      <td>2859.149902</td>\n",
              "      <td>0.9295</td>\n",
              "      <td>-0.9039</td>\n",
              "      <td>2.278470e+09</td>\n",
              "      <td>2759.260010</td>\n",
              "      <td>2845.389893</td>\n",
              "      <td>2736.280029</td>\n",
              "    </tr>\n",
              "    <tr>\n",
              "      <th>2001-01-24</th>\n",
              "      <td>2859.149902</td>\n",
              "      <td>2754.280029</td>\n",
              "      <td>-0.9039</td>\n",
              "      <td>-0.9854</td>\n",
              "      <td>2.567320e+09</td>\n",
              "      <td>2850.739990</td>\n",
              "      <td>2892.360107</td>\n",
              "      <td>2828.320068</td>\n",
              "    </tr>\n",
              "    <tr>\n",
              "      <th>2001-01-25</th>\n",
              "      <td>2754.280029</td>\n",
              "      <td>2781.300049</td>\n",
              "      <td>-0.9854</td>\n",
              "      <td>0.8926</td>\n",
              "      <td>2.298150e+09</td>\n",
              "      <td>2836.350098</td>\n",
              "      <td>2849.560059</td>\n",
              "      <td>2753.370117</td>\n",
              "    </tr>\n",
              "  </tbody>\n",
              "</table>\n",
              "</div>"
            ],
            "text/plain": [
              "            close_price  close_price_shifted  ...         high          low\n",
              "2001-01-03  2616.689941          2566.830078  ...  2618.030029  2251.709961\n",
              "2001-01-04  2566.830078          2407.649902  ...  2644.800049  2549.830078\n",
              "2001-01-05  2407.649902          2395.919922  ...  2574.620117  2395.389893\n",
              "2001-01-08  2395.919922          2441.300049  ...  2397.060059  2299.649902\n",
              "2001-01-09  2441.300049          2524.179932  ...  2474.159912  2406.080078\n",
              "2001-01-10  2524.179932          2640.570068  ...  2525.280029  2376.489990\n",
              "2001-01-11  2640.570068          2840.389893  ...  2661.929932  2495.010010\n",
              "2001-01-23  2840.389893          2859.149902  ...  2845.389893  2736.280029\n",
              "2001-01-24  2859.149902          2754.280029  ...  2892.360107  2828.320068\n",
              "2001-01-25  2754.280029          2781.300049  ...  2849.560059  2753.370117\n",
              "\n",
              "[10 rows x 8 columns]"
            ]
          },
          "metadata": {
            "tags": []
          },
          "execution_count": 47
        }
      ]
    },
    {
      "cell_type": "markdown",
      "metadata": {
        "id": "K_9ZHRKL8kFm"
      },
      "source": [
        "#Target variable and feature dataset"
      ]
    },
    {
      "cell_type": "code",
      "metadata": {
        "colab": {
          "base_uri": "https://localhost:8080/"
        },
        "id": "Tg6T22Rd8j5m",
        "outputId": "75682ebd-93f9-4976-b169-5a96d38e4e0e"
      },
      "source": [
        "# setting the target variable as the shifted close_price\n",
        "y = data['close_price_shifted']\n",
        "y"
      ],
      "execution_count": null,
      "outputs": [
        {
          "output_type": "execute_result",
          "data": {
            "text/plain": [
              "2001-01-03     2566.830078\n",
              "2001-01-04     2407.649902\n",
              "2001-01-05     2395.919922\n",
              "2001-01-08     2441.300049\n",
              "2001-01-09     2524.179932\n",
              "                  ...     \n",
              "2020-06-23     9909.169922\n",
              "2020-06-24    10017.000000\n",
              "2020-06-25     9757.219727\n",
              "2020-06-26     9874.150391\n",
              "2020-06-29    10058.769531\n",
              "Name: close_price_shifted, Length: 4875, dtype: float64"
            ]
          },
          "metadata": {
            "tags": []
          },
          "execution_count": 53
        }
      ]
    },
    {
      "cell_type": "code",
      "metadata": {
        "colab": {
          "base_uri": "https://localhost:8080/"
        },
        "id": "5-eqwUAO8t8O",
        "outputId": "46737957-f7e5-470a-d3fc-1961ad6b34b9"
      },
      "source": [
        "# setting the features dataset for prediction  \n",
        "cols = ['close_price', 'compound', 'compound_shifted', 'volume', 'open_price', 'high', 'low']\n",
        "x = data[cols]\n",
        "x"
      ],
      "execution_count": null,
      "outputs": [
        {
          "output_type": "execute_result",
          "data": {
            "text/html": [
              "<div>\n",
              "<style scoped>\n",
              "    .dataframe tbody tr th:only-of-type {\n",
              "        vertical-align: middle;\n",
              "    }\n",
              "\n",
              "    .dataframe tbody tr th {\n",
              "        vertical-align: top;\n",
              "    }\n",
              "\n",
              "    .dataframe thead th {\n",
              "        text-align: right;\n",
              "    }\n",
              "</style>\n",
              "<table border=\"1\" class=\"dataframe\">\n",
              "  <thead>\n",
              "    <tr style=\"text-align: right;\">\n",
              "      <th></th>\n",
              "      <th>close_price</th>\n",
              "      <th>compound</th>\n",
              "      <th>compound_shifted</th>\n",
              "      <th>volume</th>\n",
              "      <th>open_price</th>\n",
              "      <th>high</th>\n",
              "      <th>low</th>\n",
              "    </tr>\n",
              "  </thead>\n",
              "  <tbody>\n",
              "    <tr>\n",
              "      <th>2001-01-03</th>\n",
              "      <td>2616.689941</td>\n",
              "      <td>0.6322</td>\n",
              "      <td>0.6648</td>\n",
              "      <td>3.188000e+09</td>\n",
              "      <td>2254.560059</td>\n",
              "      <td>2618.030029</td>\n",
              "      <td>2251.709961</td>\n",
              "    </tr>\n",
              "    <tr>\n",
              "      <th>2001-01-04</th>\n",
              "      <td>2566.830078</td>\n",
              "      <td>0.6648</td>\n",
              "      <td>0.9032</td>\n",
              "      <td>2.610680e+09</td>\n",
              "      <td>2593.959961</td>\n",
              "      <td>2644.800049</td>\n",
              "      <td>2549.830078</td>\n",
              "    </tr>\n",
              "    <tr>\n",
              "      <th>2001-01-05</th>\n",
              "      <td>2407.649902</td>\n",
              "      <td>0.9032</td>\n",
              "      <td>-0.9638</td>\n",
              "      <td>2.104670e+09</td>\n",
              "      <td>2573.110107</td>\n",
              "      <td>2574.620117</td>\n",
              "      <td>2395.389893</td>\n",
              "    </tr>\n",
              "    <tr>\n",
              "      <th>2001-01-08</th>\n",
              "      <td>2395.919922</td>\n",
              "      <td>-0.9638</td>\n",
              "      <td>-0.9559</td>\n",
              "      <td>1.850590e+09</td>\n",
              "      <td>2388.719971</td>\n",
              "      <td>2397.060059</td>\n",
              "      <td>2299.649902</td>\n",
              "    </tr>\n",
              "    <tr>\n",
              "      <th>2001-01-09</th>\n",
              "      <td>2441.300049</td>\n",
              "      <td>-0.9559</td>\n",
              "      <td>-0.5719</td>\n",
              "      <td>1.975130e+09</td>\n",
              "      <td>2424.689941</td>\n",
              "      <td>2474.159912</td>\n",
              "      <td>2406.080078</td>\n",
              "    </tr>\n",
              "    <tr>\n",
              "      <th>...</th>\n",
              "      <td>...</td>\n",
              "      <td>...</td>\n",
              "      <td>...</td>\n",
              "      <td>...</td>\n",
              "      <td>...</td>\n",
              "      <td>...</td>\n",
              "      <td>...</td>\n",
              "    </tr>\n",
              "    <tr>\n",
              "      <th>2020-06-23</th>\n",
              "      <td>10131.370117</td>\n",
              "      <td>-0.9999</td>\n",
              "      <td>-0.9997</td>\n",
              "      <td>5.712450e+09</td>\n",
              "      <td>10130.830078</td>\n",
              "      <td>10221.849609</td>\n",
              "      <td>10112.440430</td>\n",
              "    </tr>\n",
              "    <tr>\n",
              "      <th>2020-06-24</th>\n",
              "      <td>9909.169922</td>\n",
              "      <td>-0.9997</td>\n",
              "      <td>-0.9999</td>\n",
              "      <td>5.549440e+09</td>\n",
              "      <td>10092.919922</td>\n",
              "      <td>10137.500000</td>\n",
              "      <td>9842.219727</td>\n",
              "    </tr>\n",
              "    <tr>\n",
              "      <th>2020-06-25</th>\n",
              "      <td>10017.000000</td>\n",
              "      <td>-0.9999</td>\n",
              "      <td>-0.9999</td>\n",
              "      <td>4.709620e+09</td>\n",
              "      <td>9899.360352</td>\n",
              "      <td>10023.280273</td>\n",
              "      <td>9810.469727</td>\n",
              "    </tr>\n",
              "    <tr>\n",
              "      <th>2020-06-26</th>\n",
              "      <td>9757.219727</td>\n",
              "      <td>-0.9999</td>\n",
              "      <td>-0.9997</td>\n",
              "      <td>7.279230e+09</td>\n",
              "      <td>9995.120117</td>\n",
              "      <td>10000.669922</td>\n",
              "      <td>9749.070313</td>\n",
              "    </tr>\n",
              "    <tr>\n",
              "      <th>2020-06-29</th>\n",
              "      <td>9874.150391</td>\n",
              "      <td>-0.9997</td>\n",
              "      <td>-0.9998</td>\n",
              "      <td>4.306120e+09</td>\n",
              "      <td>9771.719727</td>\n",
              "      <td>9877.339844</td>\n",
              "      <td>9663.610352</td>\n",
              "    </tr>\n",
              "  </tbody>\n",
              "</table>\n",
              "<p>4875 rows × 7 columns</p>\n",
              "</div>"
            ],
            "text/plain": [
              "             close_price  compound  ...          high           low\n",
              "2001-01-03   2616.689941    0.6322  ...   2618.030029   2251.709961\n",
              "2001-01-04   2566.830078    0.6648  ...   2644.800049   2549.830078\n",
              "2001-01-05   2407.649902    0.9032  ...   2574.620117   2395.389893\n",
              "2001-01-08   2395.919922   -0.9638  ...   2397.060059   2299.649902\n",
              "2001-01-09   2441.300049   -0.9559  ...   2474.159912   2406.080078\n",
              "...                  ...       ...  ...           ...           ...\n",
              "2020-06-23  10131.370117   -0.9999  ...  10221.849609  10112.440430\n",
              "2020-06-24   9909.169922   -0.9997  ...  10137.500000   9842.219727\n",
              "2020-06-25  10017.000000   -0.9999  ...  10023.280273   9810.469727\n",
              "2020-06-26   9757.219727   -0.9999  ...  10000.669922   9749.070313\n",
              "2020-06-29   9874.150391   -0.9997  ...   9877.339844   9663.610352\n",
              "\n",
              "[4875 rows x 7 columns]"
            ]
          },
          "metadata": {
            "tags": []
          },
          "execution_count": 54
        }
      ]
    },
    {
      "cell_type": "markdown",
      "metadata": {
        "id": "wptAepIH8wIe"
      },
      "source": [
        "Scaling the target variable and feature dataset, since we are using LSTM to predict stock market prices"
      ]
    },
    {
      "cell_type": "code",
      "metadata": {
        "colab": {
          "base_uri": "https://localhost:8080/"
        },
        "id": "3UVcUiRE801Y",
        "outputId": "973f1730-dc1b-423f-9784-646de664d763"
      },
      "source": [
        "# scaling the feature dataset\n",
        "scaler_x = preprocessing.MinMaxScaler (feature_range=(-1, 1))\n",
        "x = np.array(x).reshape((len(x) ,len(cols)))\n",
        "x = scaler_x.fit_transform(x)\n",
        "\n",
        "# scaling the target variable\n",
        "scaler_y = preprocessing.MinMaxScaler (feature_range=(-1, 1))\n",
        "y = np.array (y).reshape ((len( y), 1))\n",
        "y = scaler_y.fit_transform (y)\n",
        "\n",
        "# displaying the scaled feature dataset and the target variable\n",
        "x, y"
      ],
      "execution_count": null,
      "outputs": [
        {
          "output_type": "execute_result",
          "data": {
            "text/plain": [
              "(array([[-0.66673248,  0.6322    ,  0.6648    , ..., -0.74755021,\n",
              "         -0.67375157, -0.74606258],\n",
              "        [-0.67779124,  0.6648    ,  0.9032    , ..., -0.67224574,\n",
              "         -0.66785896, -0.67984273],\n",
              "        [-0.71309691,  0.9032    , -0.9638    , ..., -0.6768718 ,\n",
              "         -0.68330696, -0.71414772],\n",
              "        ...,\n",
              "        [ 0.97463307, -0.9999    , -0.9999    , ...,  0.94864257,\n",
              "          0.95629095,  0.93292484],\n",
              "        [ 0.91701462, -0.9999    , -0.9997    , ...,  0.9698893 ,\n",
              "          0.95131396,  0.91928651],\n",
              "        [ 0.94294947, -0.9997    , -0.9998    , ...,  0.92032226,\n",
              "          0.92416656,  0.90030374]]), array([[-0.67779124],\n",
              "        [-0.71309691],\n",
              "        [-0.71569858],\n",
              "        ...,\n",
              "        [ 0.91701462],\n",
              "        [ 0.94294947],\n",
              "        [ 0.98389742]]))"
            ]
          },
          "metadata": {
            "tags": []
          },
          "execution_count": 55
        }
      ]
    },
    {
      "cell_type": "markdown",
      "metadata": {
        "id": "sIZYWzut9Arh"
      },
      "source": [
        "Dividing the dataset into training and testing datasets"
      ]
    },
    {
      "cell_type": "code",
      "metadata": {
        "colab": {
          "base_uri": "https://localhost:8080/"
        },
        "id": "cX0Jf7lb8_HX",
        "outputId": "65357606-014a-417c-9449-3a4d1b42e9a5"
      },
      "source": [
        "# preparing training and test dataset\n",
        "X_train = x[0 : train_end,]\n",
        "X_test = x[train_end+1 : len(x),]    \n",
        "y_train = y[0 : train_end] \n",
        "y_test = y[train_end+1 : len(y)]  \n",
        "\n",
        "# printing the shape of the training and the test datasets\n",
        "print('Number of rows and columns in the Training set X:', X_train.shape, 'and y:', y_train.shape)\n",
        "print('Number of rows and columns in the Test set X:', X_test.shape, 'and y:', y_test.shape)"
      ],
      "execution_count": null,
      "outputs": [
        {
          "output_type": "stream",
          "text": [
            "Number of rows and columns in the Training set X: (3900, 7) and y: (3900, 1)\n",
            "Number of rows and columns in the Test set X: (974, 7) and y: (974, 1)\n"
          ],
          "name": "stdout"
        }
      ]
    },
    {
      "cell_type": "markdown",
      "metadata": {
        "id": "LbUDWOyd9IBP"
      },
      "source": [
        "Reshaping the feature dataset"
      ]
    },
    {
      "cell_type": "code",
      "metadata": {
        "colab": {
          "base_uri": "https://localhost:8080/"
        },
        "id": "iGFlc4Ym9H4O",
        "outputId": "26c7ab19-7287-4309-ad95-ddfea92b4b54"
      },
      "source": [
        "# reshaping the feature dataset for feeding into the model\n",
        "X_train = X_train.reshape (X_train.shape + (1,)) \n",
        "X_test = X_test.reshape(X_test.shape + (1,))\n",
        "\n",
        "# printing the re-shaped feature dataset\n",
        "print('Shape of Training set X:', X_train.shape)\n",
        "print('Shape of Test set X:', X_test.shape)"
      ],
      "execution_count": null,
      "outputs": [
        {
          "output_type": "stream",
          "text": [
            "Shape of Training set X: (3900, 7, 1)\n",
            "Shape of Test set X: (974, 7, 1)\n"
          ],
          "name": "stdout"
        }
      ]
    },
    {
      "cell_type": "markdown",
      "metadata": {
        "id": "27wqg-Yo9NgG"
      },
      "source": [
        "#Stock data modelling"
      ]
    },
    {
      "cell_type": "code",
      "metadata": {
        "colab": {
          "base_uri": "https://localhost:8080/"
        },
        "id": "oAPJGcyR9NYG",
        "outputId": "843e00fa-0440-4a2b-ec8f-706a3c59e50e"
      },
      "source": [
        "# setting the seed to achieve consistent and less random predictions at each execution\n",
        "np.random.seed(2016)\n",
        "\n",
        "# setting the model architecture\n",
        "model=Sequential()\n",
        "model.add(LSTM(100,return_sequences=True,activation='tanh',input_shape=(len(cols),1)))\n",
        "model.add(Dropout(0.1))\n",
        "model.add(LSTM(100,return_sequences=True,activation='tanh'))\n",
        "model.add(Dropout(0.1))\n",
        "model.add(LSTM(100,activation='tanh'))\n",
        "model.add(Dropout(0.1))\n",
        "model.add(Dense(1))\n",
        "\n",
        "# printing the model summary\n",
        "model.summary()"
      ],
      "execution_count": null,
      "outputs": [
        {
          "output_type": "stream",
          "text": [
            "Model: \"sequential\"\n",
            "_________________________________________________________________\n",
            "Layer (type)                 Output Shape              Param #   \n",
            "=================================================================\n",
            "lstm (LSTM)                  (None, 7, 100)            40800     \n",
            "_________________________________________________________________\n",
            "dropout (Dropout)            (None, 7, 100)            0         \n",
            "_________________________________________________________________\n",
            "lstm_1 (LSTM)                (None, 7, 100)            80400     \n",
            "_________________________________________________________________\n",
            "dropout_1 (Dropout)          (None, 7, 100)            0         \n",
            "_________________________________________________________________\n",
            "lstm_2 (LSTM)                (None, 100)               80400     \n",
            "_________________________________________________________________\n",
            "dropout_2 (Dropout)          (None, 100)               0         \n",
            "_________________________________________________________________\n",
            "dense (Dense)                (None, 1)                 101       \n",
            "=================================================================\n",
            "Total params: 201,701\n",
            "Trainable params: 201,701\n",
            "Non-trainable params: 0\n",
            "_________________________________________________________________\n"
          ],
          "name": "stdout"
        }
      ]
    },
    {
      "cell_type": "code",
      "metadata": {
        "colab": {
          "base_uri": "https://localhost:8080/"
        },
        "id": "-oTwMcXa9VGW",
        "outputId": "cbe87fe6-028c-4d9f-b358-4a2354ce046a"
      },
      "source": [
        "# compiling the model\n",
        "model.compile(loss='mse' , optimizer='adam')\n",
        "\n",
        "# fitting the model using the training dataset\n",
        "model.fit(X_train, y_train, validation_split=0.2, epochs=10, batch_size=8, verbose=1)"
      ],
      "execution_count": null,
      "outputs": [
        {
          "output_type": "stream",
          "text": [
            "Epoch 1/10\n",
            "390/390 [==============================] - 8s 14ms/step - loss: 0.0521 - val_loss: 0.1957\n",
            "Epoch 2/10\n",
            "390/390 [==============================] - 4s 11ms/step - loss: 0.0115 - val_loss: 0.0521\n",
            "Epoch 3/10\n",
            "390/390 [==============================] - 4s 11ms/step - loss: 0.0029 - val_loss: 0.0152\n",
            "Epoch 4/10\n",
            "390/390 [==============================] - 4s 11ms/step - loss: 0.0017 - val_loss: 0.0078\n",
            "Epoch 5/10\n",
            "390/390 [==============================] - 4s 11ms/step - loss: 0.0015 - val_loss: 0.0063\n",
            "Epoch 6/10\n",
            "390/390 [==============================] - 4s 11ms/step - loss: 0.0013 - val_loss: 0.0046\n",
            "Epoch 7/10\n",
            "390/390 [==============================] - 4s 11ms/step - loss: 0.0012 - val_loss: 0.0014\n",
            "Epoch 8/10\n",
            "390/390 [==============================] - 4s 11ms/step - loss: 0.0011 - val_loss: 4.5016e-04\n",
            "Epoch 9/10\n",
            "390/390 [==============================] - 4s 11ms/step - loss: 0.0011 - val_loss: 0.0017\n",
            "Epoch 10/10\n",
            "390/390 [==============================] - 5s 12ms/step - loss: 0.0013 - val_loss: 2.7902e-04\n"
          ],
          "name": "stdout"
        },
        {
          "output_type": "execute_result",
          "data": {
            "text/plain": [
              "<tensorflow.python.keras.callbacks.History at 0x7f760a7fa490>"
            ]
          },
          "metadata": {
            "tags": []
          },
          "execution_count": 59
        }
      ]
    },
    {
      "cell_type": "markdown",
      "metadata": {
        "id": "6jxgsUox9W4V"
      },
      "source": [
        "#Predictions"
      ]
    },
    {
      "cell_type": "code",
      "metadata": {
        "colab": {
          "base_uri": "https://localhost:8080/"
        },
        "id": "Q4kdBSKA9Wyf",
        "outputId": "0af4849d-23a3-4dfb-c333-86dbeede5e68"
      },
      "source": [
        "# performing predictions\n",
        "predictions = model.predict(X_test) \n",
        "\n",
        "# unscaling the predictions\n",
        "predictions = scaler_y.inverse_transform(np.array(predictions).reshape((len(predictions), 1)))\n",
        "\n",
        "# printing the predictions\n",
        "print('Predictions:')\n",
        "predictions[0:5]"
      ],
      "execution_count": null,
      "outputs": [
        {
          "output_type": "stream",
          "text": [
            "Predictions:\n"
          ],
          "name": "stdout"
        },
        {
          "output_type": "execute_result",
          "data": {
            "text/plain": [
              "array([[5206.4883],\n",
              "       [5194.2163],\n",
              "       [5203.0986],\n",
              "       [5202.706 ],\n",
              "       [5205.527 ]], dtype=float32)"
            ]
          },
          "metadata": {
            "tags": []
          },
          "execution_count": 60
        }
      ]
    },
    {
      "cell_type": "markdown",
      "metadata": {
        "id": "aMRZZ2-I9Z4W"
      },
      "source": [
        "#Model evaluation"
      ]
    },
    {
      "cell_type": "code",
      "metadata": {
        "colab": {
          "base_uri": "https://localhost:8080/"
        },
        "id": "e_dtI7Ls9ZsX",
        "outputId": "dcef2f3d-bf3d-47a9-9f88-88d0a4e7796d"
      },
      "source": [
        "# calculating the training mean-squared-error\n",
        "train_loss = model.evaluate(X_train, y_train, batch_size = 1)\n",
        "\n",
        "# calculating the test mean-squared-error\n",
        "test_loss = model.evaluate(X_test, y_test, batch_size = 1)\n",
        "\n",
        "# printing the training and the test mean-squared-errors\n",
        "print('Train Loss =', round(train_loss,4))\n",
        "print('Test Loss =', round(test_loss,4))"
      ],
      "execution_count": null,
      "outputs": [
        {
          "output_type": "stream",
          "text": [
            "3900/3900 [==============================] - 9s 2ms/step - loss: 1.3551e-04\n",
            "974/974 [==============================] - 2s 2ms/step - loss: 0.0020\n",
            "Train Loss = 0.0001\n",
            "Test Loss = 0.002\n"
          ],
          "name": "stdout"
        }
      ]
    },
    {
      "cell_type": "code",
      "metadata": {
        "colab": {
          "base_uri": "https://localhost:8080/"
        },
        "id": "0YTe8AWZ9fCu",
        "outputId": "4f392ef7-8c58-4368-b41f-9c09edbfaa03"
      },
      "source": [
        "# calculating root mean squared error\n",
        "root_mean_square_error = np.sqrt(np.mean(np.power((y_test - predictions),2)))\n",
        "print('Root Mean Square Error =', round(root_mean_square_error,4))"
      ],
      "execution_count": null,
      "outputs": [
        {
          "output_type": "stream",
          "text": [
            "Root Mean Square Error = 7197.7751\n"
          ],
          "name": "stdout"
        }
      ]
    },
    {
      "cell_type": "code",
      "metadata": {
        "colab": {
          "base_uri": "https://localhost:8080/"
        },
        "id": "5XiIH0iJ9gsG",
        "outputId": "442f9331-fdca-4247-8e43-9a8620cf64c7"
      },
      "source": [
        "# calculating root mean squared error using sklearn.metrics package\n",
        "rmse = metrics.mean_squared_error(y_test, predictions)\n",
        "print('Root Mean Square Error (sklearn.metrics) =', round(np.sqrt(rmse),4))"
      ],
      "execution_count": null,
      "outputs": [
        {
          "output_type": "stream",
          "text": [
            "Root Mean Square Error (sklearn.metrics) = 7197.7751\n"
          ],
          "name": "stdout"
        }
      ]
    },
    {
      "cell_type": "markdown",
      "metadata": {
        "id": "VDLpTPvo9kfH"
      },
      "source": [
        "#Plotting against unseen data"
      ]
    },
    {
      "cell_type": "code",
      "metadata": {
        "id": "N_RcDapp9kN2"
      },
      "source": [
        "# unscaling the test feature dataset, x_test\n",
        "X_test = scaler_x.inverse_transform(np.array(X_test).reshape((len(X_test), len(cols))))\n",
        "\n",
        "# unscaling the test y dataset, y_test\n",
        "y_train = scaler_y.inverse_transform(np.array(y_train).reshape((len(y_train), 1)))\n",
        "y_test = scaler_y.inverse_transform(np.array(y_test).reshape((len(y_test), 1)))"
      ],
      "execution_count": null,
      "outputs": []
    },
    {
      "cell_type": "code",
      "metadata": {
        "colab": {
          "base_uri": "https://localhost:8080/",
          "height": 625
        },
        "id": "LtYmyqLT9pBn",
        "outputId": "f25c07a0-b1e1-4028-b270-bbff8510f3ab"
      },
      "source": [
        "# plotting\n",
        "plt.figure(figsize=(16,10))\n",
        "\n",
        "# plt.plot([row[0] for row in y_train], label=\"Training Close Price\")\n",
        "plt.plot(predictions, label=\"Predicted Close Price\")\n",
        "plt.plot([row[0] for row in y_test], label=\"Testing Close Price\")\n",
        "plt.legend(loc='upper center', bbox_to_anchor=(0.5, -0.05), fancybox=True, shadow=True, ncol=2)\n",
        "plt.show()"
      ],
      "execution_count": null,
      "outputs": [
        {
          "output_type": "display_data",
          "data": {
            "image/png": "[encoded data removed]",
            "text/plain": [
              "<Figure size 1152x720 with 1 Axes>"
            ]
          },
          "metadata": {
            "tags": [],
            "needs_background": "light"
          }
        }
      ]
    },
    {
      "cell_type": "markdown",
      "metadata": {
        "id": "5PdxjJwV9qze"
      },
      "source": [
        "#References"
      ]
    },
    {
      "cell_type": "markdown",
      "metadata": {
        "id": "1Jg2rHcA9yMH"
      },
      "source": [
        "https://www.youtube.com/watch?v=MqohgHg3h6Q&t=2s"
      ]
    },
    {
      "cell_type": "markdown",
      "metadata": {
        "id": "-xcE-6Sg9z_J"
      },
      "source": [
        "https://www.analyticsvidhya.com/blog/2018/10/predicting-stock-price-machine-learningnd-deep-learning-techniques-python/"
      ]
    }
  ]
}